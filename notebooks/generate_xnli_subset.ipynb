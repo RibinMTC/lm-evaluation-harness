{
 "cells": [
  {
   "cell_type": "code",
   "execution_count": 28,
   "id": "initial_id",
   "metadata": {
    "collapsed": true,
    "ExecuteTime": {
     "end_time": "2024-01-31T09:56:53.320593977Z",
     "start_time": "2024-01-31T09:56:53.274021595Z"
    }
   },
   "outputs": [],
   "source": [
    "import csv\n",
    "import os\n",
    "from collections import Counter\n",
    "\n",
    "import pandas\n",
    "from pandas import DataFrame\n",
    "import requests\n",
    "from datasets import load_dataset, Dataset\n",
    "from datasets import ClassLabel\n",
    "import re"
   ]
  },
  {
   "cell_type": "code",
   "outputs": [],
   "source": [
    "label_feature = ClassLabel(names=['entailment', 'neutral', 'contradiction'])\n",
    "\n",
    "def convert_labels_to_classlabel(example):\n",
    "    # Konvertiere den int64 label in den entsprechenden String-Wert\n",
    "    example['label'] = label_feature.int2str(example['label'])\n",
    "    return example"
   ],
   "metadata": {
    "collapsed": false,
    "ExecuteTime": {
     "end_time": "2024-01-31T10:01:33.936565085Z",
     "start_time": "2024-01-31T10:01:33.894820809Z"
    }
   },
   "id": "8e20d3c350b623c5",
   "execution_count": 40
  },
  {
   "cell_type": "code",
   "outputs": [
    {
     "name": "stderr",
     "output_type": "stream",
     "text": [
      "Resolving data files: 100%|██████████| 19/19 [00:00<00:00, 113.75it/s]\n"
     ]
    }
   ],
   "source": [
    "xnli = load_dataset(path=\"xnli\",\n",
    "                    name=\"de\")\n",
    "article_key_name = \"premise\"\n",
    "sentence_key_name = \"hypothesis\"\n",
    "label_key_name = \"label\"\n",
    "text_len_count_key_name = \"num_words_article_and_sentence\"\n",
    "min_text_length = 50\n",
    "max_text_length = 500\n",
    "seed = 42\n",
    "sub_sample_size = 3000"
   ],
   "metadata": {
    "collapsed": false,
    "ExecuteTime": {
     "end_time": "2024-01-31T09:57:57.849879085Z",
     "start_time": "2024-01-31T09:57:55.687690412Z"
    }
   },
   "id": "3f4a1c944bd61e79",
   "execution_count": 30
  },
  {
   "cell_type": "code",
   "outputs": [],
   "source": [
    "train_df = xnli[\"train\"].to_pandas()\n",
    "train_df[text_len_count_key_name] = train_df[article_key_name].str.len() + train_df[sentence_key_name].str.len()"
   ],
   "metadata": {
    "collapsed": false,
    "ExecuteTime": {
     "end_time": "2024-01-31T09:58:01.897228585Z",
     "start_time": "2024-01-31T09:58:01.486275645Z"
    }
   },
   "id": "8fe58501951c93a2",
   "execution_count": 31
  },
  {
   "cell_type": "code",
   "outputs": [
    {
     "name": "stdout",
     "output_type": "stream",
     "text": [
      "label\n",
      "1    1031\n",
      "0     988\n",
      "2     981\n",
      "Name: count, dtype: int64\n"
     ]
    }
   ],
   "source": [
    "filtered_train_df = train_df[\n",
    "    (train_df[text_len_count_key_name] > min_text_length) & (\n",
    "            train_df[text_len_count_key_name] < max_text_length)]\n",
    "sub_sampled_train_df = filtered_train_df.sample(n=sub_sample_size, random_state=seed)\n",
    "sub_sampled_train_df.drop(columns=[text_len_count_key_name], inplace=True)\n",
    "print(sub_sampled_train_df[label_key_name].value_counts())"
   ],
   "metadata": {
    "collapsed": false,
    "ExecuteTime": {
     "end_time": "2024-01-31T09:58:04.345401451Z",
     "start_time": "2024-01-31T09:58:04.305459583Z"
    }
   },
   "id": "564851229b744882",
   "execution_count": 32
  },
  {
   "cell_type": "code",
   "outputs": [
    {
     "name": "stderr",
     "output_type": "stream",
     "text": [
      "Map: 100%|██████████| 3000/3000 [00:00<00:00, 26878.18 examples/s]\n",
      "Casting the dataset: 100%|██████████| 3000/3000 [00:00<00:00, 678982.95 examples/s]\n"
     ]
    },
    {
     "data": {
      "text/plain": "DatasetInfo(description='', citation='', homepage='', license='', features={'premise': Value(dtype='string', id=None), 'hypothesis': Value(dtype='string', id=None), 'label': ClassLabel(names=['entailment', 'neutral', 'contradiction'], id=None)}, post_processed=None, supervised_keys=None, task_templates=None, builder_name=None, dataset_name=None, config_name=None, version=None, splits=None, download_checksums=None, download_size=None, post_processing_size=None, dataset_size=None, size_in_bytes=None)"
     },
     "execution_count": 41,
     "metadata": {},
     "output_type": "execute_result"
    }
   ],
   "source": [
    "subsampled_train_dataset = Dataset.from_pandas(sub_sampled_train_df.reset_index(drop=True))\n",
    "\n",
    "# Wenden Sie die Konvertierungsfunktion auf den 'train'-Teil des DatasetDict an\n",
    "subsampled_train_dataset= subsampled_train_dataset.map(convert_labels_to_classlabel)\n",
    "subsampled_train_dataset = subsampled_train_dataset.cast_column('label', label_feature)\n",
    "subsampled_train_dataset.info\n",
    "# Überprüfen Sie, ob die "
   ],
   "metadata": {
    "collapsed": false,
    "ExecuteTime": {
     "end_time": "2024-01-31T10:01:38.888898304Z",
     "start_time": "2024-01-31T10:01:38.725093341Z"
    }
   },
   "id": "d16b248f1b6654a7",
   "execution_count": 41
  },
  {
   "cell_type": "code",
   "outputs": [
    {
     "name": "stderr",
     "output_type": "stream",
     "text": [
      "Pushing dataset shards to the dataset hub:   0%|          | 0/1 [00:00<?, ?it/s]\n",
      "Creating parquet from Arrow format: 100%|██████████| 6/6 [00:00<00:00, 340.60ba/s]\n",
      "Pushing dataset shards to the dataset hub: 100%|██████████| 1/1 [00:04<00:00,  4.59s/it]\n",
      "Pushing dataset shards to the dataset hub:   0%|          | 0/1 [00:00<?, ?it/s]\n",
      "Creating parquet from Arrow format: 100%|██████████| 3/3 [00:00<00:00, 445.98ba/s]\n",
      "Pushing dataset shards to the dataset hub: 100%|██████████| 1/1 [00:03<00:00,  3.17s/it]\n",
      "Pushing dataset shards to the dataset hub:   0%|          | 0/1 [00:00<?, ?it/s]\n",
      "Creating parquet from Arrow format: 100%|██████████| 3/3 [00:00<00:00, 1323.40ba/s]\n",
      "Pushing dataset shards to the dataset hub: 100%|██████████| 1/1 [00:01<00:00,  1.20s/it]\n"
     ]
    }
   ],
   "source": [
    "xnli[\"train\"] = subsampled_train_dataset\n",
    "xnli.push_to_hub(\"mtc/xnli_de_sub_sampled_3000\")"
   ],
   "metadata": {
    "collapsed": false,
    "ExecuteTime": {
     "end_time": "2024-01-31T10:02:00.323550403Z",
     "start_time": "2024-01-31T10:01:48.192159325Z"
    }
   },
   "id": "1fcbbd75e773fab6",
   "execution_count": 42
  },
  {
   "cell_type": "code",
   "outputs": [
    {
     "data": {
      "text/plain": "label\n1    830\n2    830\n0    830\nName: count, dtype: int64"
     },
     "execution_count": 43,
     "metadata": {},
     "output_type": "execute_result"
    }
   ],
   "source": [
    "val = xnli[\"validation\"].to_pandas()\n",
    "val[\"label\"].value_counts()"
   ],
   "metadata": {
    "collapsed": false,
    "ExecuteTime": {
     "end_time": "2024-01-31T10:07:17.822315547Z",
     "start_time": "2024-01-31T10:07:17.817627351Z"
    }
   },
   "id": "fe752091e38ba607",
   "execution_count": 43
  },
  {
   "cell_type": "code",
   "outputs": [
    {
     "data": {
      "text/plain": "label\n2    1670\n0    1670\n1    1670\nName: count, dtype: int64"
     },
     "execution_count": 44,
     "metadata": {},
     "output_type": "execute_result"
    }
   ],
   "source": [
    "test = xnli[\"test\"].to_pandas()\n",
    "test[\"label\"].value_counts()"
   ],
   "metadata": {
    "collapsed": false,
    "ExecuteTime": {
     "end_time": "2024-01-31T10:07:20.737942517Z",
     "start_time": "2024-01-31T10:07:20.730528935Z"
    }
   },
   "id": "e1699f58a448a880",
   "execution_count": 44
  },
  {
   "cell_type": "code",
   "outputs": [],
   "source": [],
   "metadata": {
    "collapsed": false
   },
   "id": "943f301386069d0b"
  }
 ],
 "metadata": {
  "kernelspec": {
   "display_name": "Python 3",
   "language": "python",
   "name": "python3"
  },
  "language_info": {
   "codemirror_mode": {
    "name": "ipython",
    "version": 2
   },
   "file_extension": ".py",
   "mimetype": "text/x-python",
   "name": "python",
   "nbconvert_exporter": "python",
   "pygments_lexer": "ipython2",
   "version": "2.7.6"
  }
 },
 "nbformat": 4,
 "nbformat_minor": 5
}
