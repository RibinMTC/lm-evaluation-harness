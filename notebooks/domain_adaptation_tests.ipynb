{
 "cells": [
  {
   "cell_type": "code",
   "execution_count": 1,
   "id": "initial_id",
   "metadata": {
    "collapsed": true,
    "ExecuteTime": {
     "end_time": "2023-11-09T09:28:59.046268992Z",
     "start_time": "2023-11-09T09:24:55.623714469Z"
    }
   },
   "outputs": [
    {
     "name": "stderr",
     "output_type": "stream",
     "text": [
      "/home/cribin/Documents/FaithfulSummarization/Repositories/lm-evaluation-harness/venv/lib/python3.10/site-packages/tqdm/auto.py:21: TqdmWarning: IProgress not found. Please update jupyter and ipywidgets. See https://ipywidgets.readthedocs.io/en/stable/user_install.html\n",
      "  from .autonotebook import tqdm as notebook_tqdm\n",
      "Downloading builder script: 100%|██████████| 5.14k/5.14k [00:00<00:00, 4.91MB/s]\n",
      "Downloading readme: 100%|██████████| 2.83k/2.83k [00:00<00:00, 6.79MB/s]\n",
      "Downloading data: 100%|██████████| 3.36G/3.36G [01:32<00:00, 36.2MB/s] \n",
      "Downloading data: 100%|██████████| 102M/102M [00:00<00:00, 107MB/s]  \n",
      "Downloading data: 100%|██████████| 102M/102M [00:03<00:00, 29.2MB/s] \n",
      "Generating train split: 203037 examples [01:08, 2952.96 examples/s]\n",
      "Generating validation split: 6436 examples [00:02, 3083.67 examples/s]\n",
      "Generating test split: 6440 examples [00:06, 1049.98 examples/s]\n"
     ]
    }
   ],
   "source": [
    "from datasets import load_dataset\n",
    "\n",
    "dataset_path = \"ccdv/arxiv-summarization\"\n",
    "arxiv_dataset = load_dataset(dataset_path)\n"
   ]
  },
  {
   "cell_type": "code",
   "execution_count": 4,
   "outputs": [
    {
     "data": {
      "text/plain": "{'train': ['article', 'abstract'],\n 'validation': ['article', 'abstract'],\n 'test': ['article', 'abstract']}"
     },
     "execution_count": 4,
     "metadata": {},
     "output_type": "execute_result"
    }
   ],
   "source": [
    "arxiv_dataset.column_names"
   ],
   "metadata": {
    "collapsed": false,
    "ExecuteTime": {
     "end_time": "2023-11-09T09:29:27.124753933Z",
     "start_time": "2023-11-09T09:29:27.066840905Z"
    }
   },
   "id": "ce449422553b0e0"
  },
  {
   "cell_type": "code",
   "execution_count": null,
   "outputs": [],
   "source": [],
   "metadata": {
    "collapsed": false
   },
   "id": "d75cb786f1665679"
  }
 ],
 "metadata": {
  "kernelspec": {
   "display_name": "Python 3",
   "language": "python",
   "name": "python3"
  },
  "language_info": {
   "codemirror_mode": {
    "name": "ipython",
    "version": 2
   },
   "file_extension": ".py",
   "mimetype": "text/x-python",
   "name": "python",
   "nbconvert_exporter": "python",
   "pygments_lexer": "ipython2",
   "version": "2.7.6"
  }
 },
 "nbformat": 4,
 "nbformat_minor": 5
}
