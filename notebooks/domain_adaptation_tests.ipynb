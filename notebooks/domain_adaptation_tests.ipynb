{
 "cells": [
  {
   "cell_type": "code",
   "execution_count": 1,
   "id": "initial_id",
   "metadata": {
    "collapsed": true,
    "ExecuteTime": {
     "end_time": "2024-01-10T15:02:57.260482437Z",
     "start_time": "2024-01-10T15:02:56.737351548Z"
    }
   },
   "outputs": [
    {
     "name": "stderr",
     "output_type": "stream",
     "text": [
      "/home/cribin/Documents/FaithfulSummarization/Repositories/lm-evaluation-harness/venv/lib/python3.10/site-packages/tqdm/auto.py:21: TqdmWarning: IProgress not found. Please update jupyter and ipywidgets. See https://ipywidgets.readthedocs.io/en/stable/user_install.html\n",
      "  from .autonotebook import tqdm as notebook_tqdm\n"
     ]
    }
   ],
   "source": [
    "from datasets import load_dataset\n",
    "\n",
    "# dataset_path = \"ccdv/arxiv-summarization\"\n",
    "# arxiv_dataset = load_dataset(dataset_path)\n"
   ]
  },
  {
   "cell_type": "code",
   "execution_count": 10,
   "outputs": [
    {
     "name": "stderr",
     "output_type": "stream",
     "text": [
      "Downloading readme: 100%|██████████| 492/492 [00:00<00:00, 1.09MB/s]\n",
      "Downloading data files:   0%|          | 0/1 [00:00<?, ?it/s]\n",
      "Downloading data:   0%|          | 0.00/3.27M [00:00<?, ?B/s]\u001B[A\n",
      "Downloading data: 100%|██████████| 3.27M/3.27M [00:00<00:00, 21.9MB/s]\u001B[A\n",
      "Downloading data files: 100%|██████████| 1/1 [00:00<00:00,  6.16it/s]\n",
      "Extracting data files: 100%|██████████| 1/1 [00:00<00:00, 1733.18it/s]\n",
      "Generating test split:  15%|█▍        | 984/6592 [00:00<00:00, 72882.59 examples/s]\n"
     ]
    },
    {
     "ename": "NonMatchingSplitsSizesError",
     "evalue": "[{'expected': SplitInfo(name='test', num_bytes=126100060, num_examples=6592, shard_lengths=None, dataset_name='pubmed-test-2048'), 'recorded': SplitInfo(name='test', num_bytes=6050438, num_examples=984, shard_lengths=None, dataset_name='pubmed-test-2048')}]",
     "output_type": "error",
     "traceback": [
      "\u001B[0;31m---------------------------------------------------------------------------\u001B[0m",
      "\u001B[0;31mNonMatchingSplitsSizesError\u001B[0m               Traceback (most recent call last)",
      "Cell \u001B[0;32mIn[10], line 3\u001B[0m\n\u001B[1;32m      1\u001B[0m \u001B[38;5;28;01mfrom\u001B[39;00m \u001B[38;5;21;01mdatasets\u001B[39;00m \u001B[38;5;28;01mimport\u001B[39;00m DownloadMode\n\u001B[0;32m----> 3\u001B[0m pubmed_2k_dataset \u001B[38;5;241m=\u001B[39m \u001B[43mload_dataset\u001B[49m\u001B[43m(\u001B[49m\u001B[38;5;124;43m\"\u001B[39;49m\u001B[38;5;124;43manumafzal94/pubmed-test-2048\u001B[39;49m\u001B[38;5;124;43m\"\u001B[39;49m\u001B[43m,\u001B[49m\u001B[43m \u001B[49m\u001B[43mdownload_mode\u001B[49m\u001B[38;5;241;43m=\u001B[39;49m\u001B[43mDownloadMode\u001B[49m\u001B[38;5;241;43m.\u001B[39;49m\u001B[43mFORCE_REDOWNLOAD\u001B[49m\u001B[43m)\u001B[49m\n",
      "File \u001B[0;32m~/Documents/FaithfulSummarization/Repositories/lm-evaluation-harness/venv/lib/python3.10/site-packages/datasets/load.py:2136\u001B[0m, in \u001B[0;36mload_dataset\u001B[0;34m(path, name, data_dir, data_files, split, cache_dir, features, download_config, download_mode, verification_mode, ignore_verifications, keep_in_memory, save_infos, revision, token, use_auth_token, task, streaming, num_proc, storage_options, **config_kwargs)\u001B[0m\n\u001B[1;32m   2133\u001B[0m try_from_hf_gcs \u001B[38;5;241m=\u001B[39m path \u001B[38;5;129;01mnot\u001B[39;00m \u001B[38;5;129;01min\u001B[39;00m _PACKAGED_DATASETS_MODULES\n\u001B[1;32m   2135\u001B[0m \u001B[38;5;66;03m# Download and prepare data\u001B[39;00m\n\u001B[0;32m-> 2136\u001B[0m \u001B[43mbuilder_instance\u001B[49m\u001B[38;5;241;43m.\u001B[39;49m\u001B[43mdownload_and_prepare\u001B[49m\u001B[43m(\u001B[49m\n\u001B[1;32m   2137\u001B[0m \u001B[43m    \u001B[49m\u001B[43mdownload_config\u001B[49m\u001B[38;5;241;43m=\u001B[39;49m\u001B[43mdownload_config\u001B[49m\u001B[43m,\u001B[49m\n\u001B[1;32m   2138\u001B[0m \u001B[43m    \u001B[49m\u001B[43mdownload_mode\u001B[49m\u001B[38;5;241;43m=\u001B[39;49m\u001B[43mdownload_mode\u001B[49m\u001B[43m,\u001B[49m\n\u001B[1;32m   2139\u001B[0m \u001B[43m    \u001B[49m\u001B[43mverification_mode\u001B[49m\u001B[38;5;241;43m=\u001B[39;49m\u001B[43mverification_mode\u001B[49m\u001B[43m,\u001B[49m\n\u001B[1;32m   2140\u001B[0m \u001B[43m    \u001B[49m\u001B[43mtry_from_hf_gcs\u001B[49m\u001B[38;5;241;43m=\u001B[39;49m\u001B[43mtry_from_hf_gcs\u001B[49m\u001B[43m,\u001B[49m\n\u001B[1;32m   2141\u001B[0m \u001B[43m    \u001B[49m\u001B[43mnum_proc\u001B[49m\u001B[38;5;241;43m=\u001B[39;49m\u001B[43mnum_proc\u001B[49m\u001B[43m,\u001B[49m\n\u001B[1;32m   2142\u001B[0m \u001B[43m    \u001B[49m\u001B[43mstorage_options\u001B[49m\u001B[38;5;241;43m=\u001B[39;49m\u001B[43mstorage_options\u001B[49m\u001B[43m,\u001B[49m\n\u001B[1;32m   2143\u001B[0m \u001B[43m\u001B[49m\u001B[43m)\u001B[49m\n\u001B[1;32m   2145\u001B[0m \u001B[38;5;66;03m# Build dataset for splits\u001B[39;00m\n\u001B[1;32m   2146\u001B[0m keep_in_memory \u001B[38;5;241m=\u001B[39m (\n\u001B[1;32m   2147\u001B[0m     keep_in_memory \u001B[38;5;28;01mif\u001B[39;00m keep_in_memory \u001B[38;5;129;01mis\u001B[39;00m \u001B[38;5;129;01mnot\u001B[39;00m \u001B[38;5;28;01mNone\u001B[39;00m \u001B[38;5;28;01melse\u001B[39;00m is_small_dataset(builder_instance\u001B[38;5;241m.\u001B[39minfo\u001B[38;5;241m.\u001B[39mdataset_size)\n\u001B[1;32m   2148\u001B[0m )\n",
      "File \u001B[0;32m~/Documents/FaithfulSummarization/Repositories/lm-evaluation-harness/venv/lib/python3.10/site-packages/datasets/builder.py:954\u001B[0m, in \u001B[0;36mDatasetBuilder.download_and_prepare\u001B[0;34m(self, output_dir, download_config, download_mode, verification_mode, ignore_verifications, try_from_hf_gcs, dl_manager, base_path, use_auth_token, file_format, max_shard_size, num_proc, storage_options, **download_and_prepare_kwargs)\u001B[0m\n\u001B[1;32m    952\u001B[0m     \u001B[38;5;28;01mif\u001B[39;00m num_proc \u001B[38;5;129;01mis\u001B[39;00m \u001B[38;5;129;01mnot\u001B[39;00m \u001B[38;5;28;01mNone\u001B[39;00m:\n\u001B[1;32m    953\u001B[0m         prepare_split_kwargs[\u001B[38;5;124m\"\u001B[39m\u001B[38;5;124mnum_proc\u001B[39m\u001B[38;5;124m\"\u001B[39m] \u001B[38;5;241m=\u001B[39m num_proc\n\u001B[0;32m--> 954\u001B[0m     \u001B[38;5;28;43mself\u001B[39;49m\u001B[38;5;241;43m.\u001B[39;49m\u001B[43m_download_and_prepare\u001B[49m\u001B[43m(\u001B[49m\n\u001B[1;32m    955\u001B[0m \u001B[43m        \u001B[49m\u001B[43mdl_manager\u001B[49m\u001B[38;5;241;43m=\u001B[39;49m\u001B[43mdl_manager\u001B[49m\u001B[43m,\u001B[49m\n\u001B[1;32m    956\u001B[0m \u001B[43m        \u001B[49m\u001B[43mverification_mode\u001B[49m\u001B[38;5;241;43m=\u001B[39;49m\u001B[43mverification_mode\u001B[49m\u001B[43m,\u001B[49m\n\u001B[1;32m    957\u001B[0m \u001B[43m        \u001B[49m\u001B[38;5;241;43m*\u001B[39;49m\u001B[38;5;241;43m*\u001B[39;49m\u001B[43mprepare_split_kwargs\u001B[49m\u001B[43m,\u001B[49m\n\u001B[1;32m    958\u001B[0m \u001B[43m        \u001B[49m\u001B[38;5;241;43m*\u001B[39;49m\u001B[38;5;241;43m*\u001B[39;49m\u001B[43mdownload_and_prepare_kwargs\u001B[49m\u001B[43m,\u001B[49m\n\u001B[1;32m    959\u001B[0m \u001B[43m    \u001B[49m\u001B[43m)\u001B[49m\n\u001B[1;32m    960\u001B[0m \u001B[38;5;66;03m# Sync info\u001B[39;00m\n\u001B[1;32m    961\u001B[0m \u001B[38;5;28mself\u001B[39m\u001B[38;5;241m.\u001B[39minfo\u001B[38;5;241m.\u001B[39mdataset_size \u001B[38;5;241m=\u001B[39m \u001B[38;5;28msum\u001B[39m(split\u001B[38;5;241m.\u001B[39mnum_bytes \u001B[38;5;28;01mfor\u001B[39;00m split \u001B[38;5;129;01min\u001B[39;00m \u001B[38;5;28mself\u001B[39m\u001B[38;5;241m.\u001B[39minfo\u001B[38;5;241m.\u001B[39msplits\u001B[38;5;241m.\u001B[39mvalues())\n",
      "File \u001B[0;32m~/Documents/FaithfulSummarization/Repositories/lm-evaluation-harness/venv/lib/python3.10/site-packages/datasets/builder.py:1067\u001B[0m, in \u001B[0;36mDatasetBuilder._download_and_prepare\u001B[0;34m(self, dl_manager, verification_mode, **prepare_split_kwargs)\u001B[0m\n\u001B[1;32m   1064\u001B[0m     dl_manager\u001B[38;5;241m.\u001B[39mmanage_extracted_files()\n\u001B[1;32m   1066\u001B[0m \u001B[38;5;28;01mif\u001B[39;00m verification_mode \u001B[38;5;241m==\u001B[39m VerificationMode\u001B[38;5;241m.\u001B[39mBASIC_CHECKS \u001B[38;5;129;01mor\u001B[39;00m verification_mode \u001B[38;5;241m==\u001B[39m VerificationMode\u001B[38;5;241m.\u001B[39mALL_CHECKS:\n\u001B[0;32m-> 1067\u001B[0m     \u001B[43mverify_splits\u001B[49m\u001B[43m(\u001B[49m\u001B[38;5;28;43mself\u001B[39;49m\u001B[38;5;241;43m.\u001B[39;49m\u001B[43minfo\u001B[49m\u001B[38;5;241;43m.\u001B[39;49m\u001B[43msplits\u001B[49m\u001B[43m,\u001B[49m\u001B[43m \u001B[49m\u001B[43msplit_dict\u001B[49m\u001B[43m)\u001B[49m\n\u001B[1;32m   1069\u001B[0m \u001B[38;5;66;03m# Update the info object with the splits.\u001B[39;00m\n\u001B[1;32m   1070\u001B[0m \u001B[38;5;28mself\u001B[39m\u001B[38;5;241m.\u001B[39minfo\u001B[38;5;241m.\u001B[39msplits \u001B[38;5;241m=\u001B[39m split_dict\n",
      "File \u001B[0;32m~/Documents/FaithfulSummarization/Repositories/lm-evaluation-harness/venv/lib/python3.10/site-packages/datasets/utils/info_utils.py:100\u001B[0m, in \u001B[0;36mverify_splits\u001B[0;34m(expected_splits, recorded_splits)\u001B[0m\n\u001B[1;32m     94\u001B[0m bad_splits \u001B[38;5;241m=\u001B[39m [\n\u001B[1;32m     95\u001B[0m     {\u001B[38;5;124m\"\u001B[39m\u001B[38;5;124mexpected\u001B[39m\u001B[38;5;124m\"\u001B[39m: expected_splits[name], \u001B[38;5;124m\"\u001B[39m\u001B[38;5;124mrecorded\u001B[39m\u001B[38;5;124m\"\u001B[39m: recorded_splits[name]}\n\u001B[1;32m     96\u001B[0m     \u001B[38;5;28;01mfor\u001B[39;00m name \u001B[38;5;129;01min\u001B[39;00m expected_splits\n\u001B[1;32m     97\u001B[0m     \u001B[38;5;28;01mif\u001B[39;00m expected_splits[name]\u001B[38;5;241m.\u001B[39mnum_examples \u001B[38;5;241m!=\u001B[39m recorded_splits[name]\u001B[38;5;241m.\u001B[39mnum_examples\n\u001B[1;32m     98\u001B[0m ]\n\u001B[1;32m     99\u001B[0m \u001B[38;5;28;01mif\u001B[39;00m \u001B[38;5;28mlen\u001B[39m(bad_splits) \u001B[38;5;241m>\u001B[39m \u001B[38;5;241m0\u001B[39m:\n\u001B[0;32m--> 100\u001B[0m     \u001B[38;5;28;01mraise\u001B[39;00m NonMatchingSplitsSizesError(\u001B[38;5;28mstr\u001B[39m(bad_splits))\n\u001B[1;32m    101\u001B[0m logger\u001B[38;5;241m.\u001B[39minfo(\u001B[38;5;124m\"\u001B[39m\u001B[38;5;124mAll the splits matched successfully.\u001B[39m\u001B[38;5;124m\"\u001B[39m)\n",
      "\u001B[0;31mNonMatchingSplitsSizesError\u001B[0m: [{'expected': SplitInfo(name='test', num_bytes=126100060, num_examples=6592, shard_lengths=None, dataset_name='pubmed-test-2048'), 'recorded': SplitInfo(name='test', num_bytes=6050438, num_examples=984, shard_lengths=None, dataset_name='pubmed-test-2048')}]"
     ]
    }
   ],
   "source": [
    "from datasets import DownloadMode\n",
    "\n",
    "pubmed_2k_dataset = load_dataset(\"anumafzal94/pubmed-test-2048\", download_mode=DownloadMode.FORCE_REDOWNLOAD)"
   ],
   "metadata": {
    "collapsed": false,
    "ExecuteTime": {
     "end_time": "2024-01-10T15:05:27.629673542Z",
     "start_time": "2024-01-10T15:05:24.973821371Z"
    }
   },
   "id": "d75cb786f1665679"
  },
  {
   "cell_type": "code",
   "outputs": [
    {
     "data": {
      "text/plain": "{'test': ['text', 'summary']}"
     },
     "execution_count": 8,
     "metadata": {},
     "output_type": "execute_result"
    }
   ],
   "source": [
    "pubmed_2k_dataset.column_names"
   ],
   "metadata": {
    "collapsed": false,
    "ExecuteTime": {
     "end_time": "2024-01-10T15:05:13.844508989Z",
     "start_time": "2024-01-10T15:05:13.841047700Z"
    }
   },
   "id": "18172151087270bd",
   "execution_count": 8
  },
  {
   "cell_type": "code",
   "outputs": [
    {
     "data": {
      "text/plain": "6592"
     },
     "execution_count": 9,
     "metadata": {},
     "output_type": "execute_result"
    }
   ],
   "source": [
    "pubmed_2k_dataset_df = pubmed_2k_dataset[\"test\"].to_pandas()\n",
    "pubmed_2k_dataset_df.shape[0]"
   ],
   "metadata": {
    "collapsed": false,
    "ExecuteTime": {
     "end_time": "2024-01-10T15:05:16.880487155Z",
     "start_time": "2024-01-10T15:05:16.797416561Z"
    }
   },
   "id": "7ec9da6615e1b0e8",
   "execution_count": 9
  },
  {
   "cell_type": "code",
   "outputs": [
    {
     "name": "stderr",
     "output_type": "stream",
     "text": [
      "Downloading readme: 100%|██████████| 474/474 [00:00<00:00, 1.89MB/s]\n",
      "Downloading data files:   0%|          | 0/1 [00:00<?, ?it/s]\n",
      "Downloading data:   0%|          | 0.00/104M [00:00<?, ?B/s]\u001B[A\n",
      "Downloading data:   4%|▍         | 4.19M/104M [00:00<00:15, 6.48MB/s]\u001B[A\n",
      "Downloading data:  12%|█▏        | 12.6M/104M [00:01<00:09, 9.20MB/s]\u001B[A\n",
      "Downloading data:  20%|██        | 21.0M/104M [00:02<00:07, 10.6MB/s]\u001B[A\n",
      "Downloading data:  28%|██▊       | 29.4M/104M [00:02<00:06, 11.4MB/s]\u001B[A\n",
      "Downloading data:  36%|███▌      | 37.7M/104M [00:03<00:05, 12.0MB/s]\u001B[A\n",
      "Downloading data:  44%|████▍     | 46.1M/104M [00:04<00:05, 9.85MB/s]\u001B[A\n",
      "Downloading data:  52%|█████▏    | 54.5M/104M [00:05<00:04, 10.4MB/s]\u001B[A\n",
      "Downloading data:  60%|██████    | 62.9M/104M [00:05<00:03, 11.6MB/s]\u001B[A\n",
      "Downloading data:  68%|██████▊   | 71.3M/104M [00:06<00:02, 12.4MB/s]\u001B[A\n",
      "Downloading data:  76%|███████▋  | 79.7M/104M [00:07<00:02, 11.9MB/s]\u001B[A\n",
      "Downloading data:  84%|████████▍ | 88.1M/104M [00:07<00:01, 11.5MB/s]\u001B[A\n",
      "Downloading data:  92%|█████████▏| 96.5M/104M [00:08<00:00, 12.5MB/s]\u001B[A\n",
      "Downloading data: 100%|██████████| 104M/104M [00:09<00:00, 10.8MB/s] \u001B[A\n",
      "Downloading data files: 100%|██████████| 1/1 [00:09<00:00,  9.65s/it]\n",
      "Extracting data files: 100%|██████████| 1/1 [00:00<00:00, 247.80it/s]\n",
      "Generating test split: 100%|██████████| 6438/6438 [00:00<00:00, 11954.44 examples/s]\n"
     ]
    }
   ],
   "source": [
    "arxiv_2k_dataset = load_dataset(\"anumafzal94/arxiv-test-2048\")"
   ],
   "metadata": {
    "collapsed": false,
    "ExecuteTime": {
     "end_time": "2024-01-10T14:25:03.467665170Z",
     "start_time": "2024-01-10T14:24:50.840864721Z"
    }
   },
   "id": "52c672e309c84a01",
   "execution_count": 6
  },
  {
   "cell_type": "code",
   "outputs": [
    {
     "data": {
      "text/plain": "6438"
     },
     "execution_count": 7,
     "metadata": {},
     "output_type": "execute_result"
    }
   ],
   "source": [
    "arxiv_2k_dataset_df = arxiv_2k_dataset[\"test\"].to_pandas()\n",
    "arxiv_2k_dataset_df.shape[0]"
   ],
   "metadata": {
    "collapsed": false,
    "ExecuteTime": {
     "end_time": "2024-01-10T14:25:16.425789082Z",
     "start_time": "2024-01-10T14:25:16.379323786Z"
    }
   },
   "id": "1e66dc1934cdb893",
   "execution_count": 7
  },
  {
   "cell_type": "code",
   "outputs": [],
   "source": [],
   "metadata": {
    "collapsed": false
   },
   "id": "c21e707fd8765688"
  }
 ],
 "metadata": {
  "kernelspec": {
   "display_name": "Python 3",
   "language": "python",
   "name": "python3"
  },
  "language_info": {
   "codemirror_mode": {
    "name": "ipython",
    "version": 2
   },
   "file_extension": ".py",
   "mimetype": "text/x-python",
   "name": "python",
   "nbconvert_exporter": "python",
   "pygments_lexer": "ipython2",
   "version": "2.7.6"
  }
 },
 "nbformat": 4,
 "nbformat_minor": 5
}
