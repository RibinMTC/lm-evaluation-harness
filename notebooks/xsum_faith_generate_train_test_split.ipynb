{
 "cells": [
  {
   "cell_type": "code",
   "execution_count": 10,
   "id": "initial_id",
   "metadata": {
    "collapsed": true,
    "ExecuteTime": {
     "end_time": "2024-01-30T15:25:20.872701528Z",
     "start_time": "2024-01-30T15:25:20.825711792Z"
    }
   },
   "outputs": [],
   "source": [
    "import csv\n",
    "import os\n",
    "from collections import Counter\n",
    "\n",
    "import pandas\n",
    "from pandas import DataFrame    \n",
    "import requests\n",
    "from datasets import load_dataset\n",
    "import re\n",
    "\n",
    "# Code adapted from Summac code: https://github.com/tingofurro/summac/blob/master/summac/benchmark.py"
   ]
  },
  {
   "cell_type": "code",
   "outputs": [],
   "source": [
    "xsum = load_dataset(\"xsum\")[\"test\"]\n",
    "xsumid2article = {d[\"id\"]: d[\"document\"] for d in xsum}"
   ],
   "metadata": {
    "collapsed": false,
    "ExecuteTime": {
     "end_time": "2024-01-30T15:19:35.762851671Z",
     "start_time": "2024-01-30T15:19:33.688922357Z"
    }
   },
   "id": "a0f933f0e2508687",
   "execution_count": 2
  },
  {
   "cell_type": "code",
   "outputs": [],
   "source": [
    "def clean_text(original_string):\n",
    "    # Pattern to find the text starting with \"Media playback\" and ending with \"device\"\n",
    "    pattern = r\"Media playback.*?device\"\n",
    "    \n",
    "    # Remove the specified part from the original string\n",
    "    modified_string = re.sub(pattern, \"\", original_string)\n",
    "\n",
    "    return modified_string"
   ],
   "metadata": {
    "collapsed": false,
    "ExecuteTime": {
     "end_time": "2024-01-30T15:19:37.648962194Z",
     "start_time": "2024-01-30T15:19:37.643349375Z"
    }
   },
   "id": "773fef6c4d2acda1",
   "execution_count": 3
  },
  {
   "cell_type": "code",
   "outputs": [],
   "source": [
    "def load_xsumfaith():\n",
    "    # On Faithfulness and Factuality in Abstractive Summarization - ACL 2020\n",
    "    # https://github.com/google-research-datasets/xsum_hallucination_annotations\n",
    "    # https://aclanthology.org/2020.acl-main.173.pdf\n",
    "    dataset_folder = \"test\"\n",
    "    csv_file = requests.get(\"https://github.com/google-research-datasets/xsum_hallucination_annotations/raw/master/hallucination_annotations_xsum_summaries.csv\")\n",
    "    with open(os.path.join(dataset_folder, \"hallucination_annotations_xsum_summaries.csv\"), \"wb\") as f:\n",
    "        f.write(csv_file.content)\n",
    "\n",
    "    path_to_annotation = os.path.join(dataset_folder, \"hallucination_annotations_xsum_summaries.csv\")\n",
    "\n",
    "    with open(path_to_annotation, \"r\") as f:\n",
    "        raw_data = list(csv.reader(f))\n",
    "        dataset = []\n",
    "        keys = raw_data[0]\n",
    "        for line in raw_data[1:]:\n",
    "            dataset.append({k: v for k, v in zip(keys, line)})\n",
    "\n",
    "    groups = {}\n",
    "    for d in dataset:\n",
    "        k = (d[\"bbcid\"], d[\"system\"])\n",
    "        if k not in groups:\n",
    "            groups[k] = []\n",
    "        groups[k].append(d)\n",
    "\n",
    "    clean_dataset = []\n",
    "    cleaned_documents = 0\n",
    "    for k, vs in groups.items():\n",
    "        A = vs[0]\n",
    "        document = xsumid2article[A[\"bbcid\"]]\n",
    "        cleaned_document = clean_text(document)\n",
    "        if len(cleaned_document) != len(document):\n",
    "            cleaned_documents += 1\n",
    "        if len(cleaned_document) < 10:\n",
    "            print(f\"Document {cleaned_document} is too short, skipping\")\n",
    "            continue\n",
    "        labels = [v[\"hallucination_type\"] for v in vs]\n",
    "        annotations = [\"faithful\" if label == \"NULL\" else label for label in labels]\n",
    "        most_common_label = Counter(labels).most_common(1)[0][0]\n",
    "        label = \"faithful\" if most_common_label == \"NULL\" else most_common_label\n",
    "        #c = \"train\" if len(clean_dataset) % 2 == 0 else \"test\"\n",
    "\n",
    "        clean_dataset.append({\"document\": cleaned_document, \"claim\": A[\"summary\"], \"bbcid\": A[\"bbcid\"], \"model_name\": A[\"system\"], \"label\": label, \"split\": \"not set\", \"annotations\": annotations})\n",
    "    print(f\"Cleaned {cleaned_documents} documents\")\n",
    "    return pandas.DataFrame(clean_dataset)"
   ],
   "metadata": {
    "collapsed": false,
    "ExecuteTime": {
     "end_time": "2024-01-30T15:20:30.543167822Z",
     "start_time": "2024-01-30T15:20:30.514830536Z"
    }
   },
   "id": "57767298ad6d888f",
   "execution_count": 4
  },
  {
   "cell_type": "code",
   "outputs": [
    {
     "name": "stdout",
     "output_type": "stream",
     "text": [
      "Cleaned 170 documents\n"
     ]
    }
   ],
   "source": [
    "clean_xsum_faith_df = load_xsumfaith()"
   ],
   "metadata": {
    "collapsed": false,
    "ExecuteTime": {
     "end_time": "2024-01-30T15:20:34.845818929Z",
     "start_time": "2024-01-30T15:20:33.865388625Z"
    }
   },
   "id": "c9f1a9084f6e721",
   "execution_count": 5
  },
  {
   "cell_type": "code",
   "outputs": [
    {
     "data": {
      "text/plain": "                                            document  \\\n0  France's Dubuisson carded a 67 to tie with ove...   \n1  Sheikh Ali Salman told the BBC that for nation...   \n2  He died at his home in Cambridge following an ...   \n3  In the year to the end of March, 57 victims of...   \n4  The Cherries went down 2-1 at Sunderland on Sa...   \n\n                                               claim     bbcid model_name  \\\n0  rory mcilroy will take a one-shot lead into th...  34687720    BERTS2S   \n1  the leader of bahrain\\'s main opposition party...  21267591    BERTS2S   \n2  veteran classical music conductor christopher ...  29347895    BERTS2S   \n3  the number of homicides recorded by police in ...  37618111    BERTS2S   \n4  bournemouth manager eddie howe says his side a...  37895159    BERTS2S   \n\n       label    split                                        annotations  \n0  extrinsic  not set                  [extrinsic, extrinsic, extrinsic]  \n1   faithful  not set         [faithful, faithful, extrinsic, intrinsic]  \n2  extrinsic  not set  [extrinsic, extrinsic, intrinsic, extrinsic, i...  \n3  extrinsic  not set                  [extrinsic, extrinsic, extrinsic]  \n4  extrinsic  not set  [extrinsic, extrinsic, extrinsic, extrinsic, e...  ",
      "text/html": "<div>\n<style scoped>\n    .dataframe tbody tr th:only-of-type {\n        vertical-align: middle;\n    }\n\n    .dataframe tbody tr th {\n        vertical-align: top;\n    }\n\n    .dataframe thead th {\n        text-align: right;\n    }\n</style>\n<table border=\"1\" class=\"dataframe\">\n  <thead>\n    <tr style=\"text-align: right;\">\n      <th></th>\n      <th>document</th>\n      <th>claim</th>\n      <th>bbcid</th>\n      <th>model_name</th>\n      <th>label</th>\n      <th>split</th>\n      <th>annotations</th>\n    </tr>\n  </thead>\n  <tbody>\n    <tr>\n      <th>0</th>\n      <td>France's Dubuisson carded a 67 to tie with ove...</td>\n      <td>rory mcilroy will take a one-shot lead into th...</td>\n      <td>34687720</td>\n      <td>BERTS2S</td>\n      <td>extrinsic</td>\n      <td>not set</td>\n      <td>[extrinsic, extrinsic, extrinsic]</td>\n    </tr>\n    <tr>\n      <th>1</th>\n      <td>Sheikh Ali Salman told the BBC that for nation...</td>\n      <td>the leader of bahrain\\'s main opposition party...</td>\n      <td>21267591</td>\n      <td>BERTS2S</td>\n      <td>faithful</td>\n      <td>not set</td>\n      <td>[faithful, faithful, extrinsic, intrinsic]</td>\n    </tr>\n    <tr>\n      <th>2</th>\n      <td>He died at his home in Cambridge following an ...</td>\n      <td>veteran classical music conductor christopher ...</td>\n      <td>29347895</td>\n      <td>BERTS2S</td>\n      <td>extrinsic</td>\n      <td>not set</td>\n      <td>[extrinsic, extrinsic, intrinsic, extrinsic, i...</td>\n    </tr>\n    <tr>\n      <th>3</th>\n      <td>In the year to the end of March, 57 victims of...</td>\n      <td>the number of homicides recorded by police in ...</td>\n      <td>37618111</td>\n      <td>BERTS2S</td>\n      <td>extrinsic</td>\n      <td>not set</td>\n      <td>[extrinsic, extrinsic, extrinsic]</td>\n    </tr>\n    <tr>\n      <th>4</th>\n      <td>The Cherries went down 2-1 at Sunderland on Sa...</td>\n      <td>bournemouth manager eddie howe says his side a...</td>\n      <td>37895159</td>\n      <td>BERTS2S</td>\n      <td>extrinsic</td>\n      <td>not set</td>\n      <td>[extrinsic, extrinsic, extrinsic, extrinsic, e...</td>\n    </tr>\n  </tbody>\n</table>\n</div>"
     },
     "execution_count": 6,
     "metadata": {},
     "output_type": "execute_result"
    }
   ],
   "source": [
    "clean_xsum_faith_df.head()"
   ],
   "metadata": {
    "collapsed": false,
    "ExecuteTime": {
     "end_time": "2024-01-30T15:20:37.033597912Z",
     "start_time": "2024-01-30T15:20:37.013080941Z"
    }
   },
   "id": "9787dbf9f7dacfef",
   "execution_count": 6
  },
  {
   "cell_type": "code",
   "outputs": [
    {
     "data": {
      "text/plain": "label\nextrinsic    1795\nintrinsic     448\nfaithful      257\nName: count, dtype: int64"
     },
     "execution_count": 7,
     "metadata": {},
     "output_type": "execute_result"
    }
   ],
   "source": [
    "clean_xsum_faith_df[\"label\"].value_counts()"
   ],
   "metadata": {
    "collapsed": false,
    "ExecuteTime": {
     "end_time": "2024-01-30T15:20:46.068318495Z",
     "start_time": "2024-01-30T15:20:46.061961979Z"
    }
   },
   "id": "defd4ce7505322e4",
   "execution_count": 7
  },
  {
   "cell_type": "code",
   "outputs": [
    {
     "data": {
      "text/plain": "split\nnot set    2500\nName: count, dtype: int64"
     },
     "execution_count": 8,
     "metadata": {},
     "output_type": "execute_result"
    }
   ],
   "source": [
    "clean_xsum_faith_df[\"split\"].value_counts()"
   ],
   "metadata": {
    "collapsed": false,
    "ExecuteTime": {
     "end_time": "2024-01-30T15:20:50.888642976Z",
     "start_time": "2024-01-30T15:20:50.886338730Z"
    }
   },
   "id": "c38a969d5736d452",
   "execution_count": 8
  },
  {
   "cell_type": "code",
   "outputs": [],
   "source": [
    "train_size = 1050\n",
    "val_size = 200\n",
    "test_size = 1250  # Or use the remainder\n",
    "\n",
    "# Group by 'bbcid'\n",
    "grouped_xsum_faith = clean_xsum_faith_df.groupby('bbcid')"
   ],
   "metadata": {
    "collapsed": false,
    "ExecuteTime": {
     "end_time": "2024-01-30T15:24:57.880642209Z",
     "start_time": "2024-01-30T15:24:57.839599886Z"
    }
   },
   "id": "81ece1be389c7f8c",
   "execution_count": 9
  },
  {
   "cell_type": "code",
   "outputs": [],
   "source": [
    "shuffled_groups = grouped_xsum_faith.apply(lambda x: x.sample(frac=1)).reset_index(drop=True)\n",
    "\n",
    "# Allocate groups to train, validation, and test sets\n",
    "train = DataFrame()\n",
    "val = DataFrame()\n",
    "test = DataFrame()\n",
    "\n",
    "for _, group in shuffled_groups.groupby('bbcid'):\n",
    "    if len(train) < train_size:\n",
    "        train = pandas.concat([train, group])\n",
    "    elif len(val) < val_size:\n",
    "        val = pandas.concat([val, group])\n",
    "    else:\n",
    "        test = pandas.concat([test, group])\n",
    "\n",
    "# Ensure the total size is correct\n",
    "if len(train) > train_size or len(val) > val_size:\n",
    "    print(\"Adjustment needed due to group sizes.\")\n"
   ],
   "metadata": {
    "collapsed": false,
    "ExecuteTime": {
     "end_time": "2024-01-30T15:26:15.751834872Z",
     "start_time": "2024-01-30T15:26:15.590334451Z"
    }
   },
   "id": "f3a46cfe32327679",
   "execution_count": 11
  },
  {
   "cell_type": "code",
   "outputs": [
    {
     "data": {
      "text/plain": "label\nextrinsic    727\nintrinsic    197\nfaithful     126\nName: count, dtype: int64"
     },
     "execution_count": 12,
     "metadata": {},
     "output_type": "execute_result"
    }
   ],
   "source": [
    "train[\"label\"].value_counts()"
   ],
   "metadata": {
    "collapsed": false,
    "ExecuteTime": {
     "end_time": "2024-01-30T15:26:32.840698686Z",
     "start_time": "2024-01-30T15:26:32.799767128Z"
    }
   },
   "id": "464f7a4322c73acd",
   "execution_count": 12
  },
  {
   "cell_type": "code",
   "outputs": [
    {
     "data": {
      "text/plain": "label\nextrinsic    143\nintrinsic     39\nfaithful      18\nName: count, dtype: int64"
     },
     "execution_count": 13,
     "metadata": {},
     "output_type": "execute_result"
    }
   ],
   "source": [
    "val[\"label\"].value_counts()"
   ],
   "metadata": {
    "collapsed": false,
    "ExecuteTime": {
     "end_time": "2024-01-30T15:27:12.172795840Z",
     "start_time": "2024-01-30T15:27:12.131607821Z"
    }
   },
   "id": "2ae77539641ff614",
   "execution_count": 13
  },
  {
   "cell_type": "code",
   "outputs": [
    {
     "data": {
      "text/plain": "label\nextrinsic    925\nintrinsic    212\nfaithful     113\nName: count, dtype: int64"
     },
     "execution_count": 14,
     "metadata": {},
     "output_type": "execute_result"
    }
   ],
   "source": [
    "test[\"label\"].value_counts()"
   ],
   "metadata": {
    "collapsed": false,
    "ExecuteTime": {
     "end_time": "2024-01-30T15:27:31.792752640Z",
     "start_time": "2024-01-30T15:27:31.745627033Z"
    }
   },
   "id": "64d4e6792b0563ea",
   "execution_count": 14
  },
  {
   "cell_type": "code",
   "outputs": [],
   "source": [
    "test_ids = set(test[\"bbcid\"].tolist())\n",
    "train_ids = set(train[\"bbcid\"].tolist())\n",
    "val_ids = set(val[\"bbcid\"].tolist())\n",
    "assert len(test_ids.intersection(train_ids)) == 0 and len(train_ids.intersection(val_ids)) == 0"
   ],
   "metadata": {
    "collapsed": false,
    "ExecuteTime": {
     "end_time": "2024-01-30T15:29:31.216663727Z",
     "start_time": "2024-01-30T15:29:31.175176225Z"
    }
   },
   "id": "7fc8b929177e45cc",
   "execution_count": 15
  },
  {
   "cell_type": "code",
   "outputs": [
    {
     "name": "stderr",
     "output_type": "stream",
     "text": [
      "Pushing dataset shards to the dataset hub:   0%|          | 0/1 [00:00<?, ?it/s]\n",
      "Creating parquet from Arrow format: 100%|██████████| 2/2 [00:00<00:00, 447.27ba/s]\n",
      "Pushing dataset shards to the dataset hub: 100%|██████████| 1/1 [00:01<00:00,  1.34s/it]\n",
      "Deleting unused files from dataset repository: 100%|██████████| 1/1 [00:00<00:00,  3.59it/s]\n",
      "Pushing dataset shards to the dataset hub:   0%|          | 0/1 [00:00<?, ?it/s]\n",
      "Creating parquet from Arrow format: 100%|██████████| 1/1 [00:00<00:00, 334.45ba/s]\n",
      "Pushing dataset shards to the dataset hub: 100%|██████████| 1/1 [00:01<00:00,  1.32s/it]\n",
      "Deleting unused files from dataset repository: 100%|██████████| 1/1 [00:00<00:00,  3.81it/s]\n",
      "Pushing dataset shards to the dataset hub:   0%|          | 0/1 [00:00<?, ?it/s]\n",
      "Creating parquet from Arrow format: 100%|██████████| 2/2 [00:00<00:00, 473.40ba/s]\n",
      "Pushing dataset shards to the dataset hub: 100%|██████████| 1/1 [00:01<00:00,  1.53s/it]\n",
      "Deleting unused files from dataset repository: 100%|██████████| 1/1 [00:00<00:00,  1.79it/s]\n",
      "Downloading metadata: 100%|██████████| 887/887 [00:00<00:00, 7.07MB/s]\n"
     ]
    }
   ],
   "source": [
    "from datasets import DatasetDict, Dataset\n",
    "\n",
    "clean_xsum_faith_dataset_dict = DatasetDict({\n",
    "    \"train\": Dataset.from_pandas(train.reset_index(drop=True)),\n",
    "    \"validation\": Dataset.from_pandas(val.reset_index(drop=True)),\n",
    "    \"test\": Dataset.from_pandas(test.reset_index(drop=True))\n",
    "})\n",
    "\n",
    "clean_xsum_faith_dataset_dict.push_to_hub(\"mtc/full_cleaned_xsum_faith\")"
   ],
   "metadata": {
    "collapsed": false,
    "ExecuteTime": {
     "end_time": "2024-01-30T15:30:07.499440636Z",
     "start_time": "2024-01-30T15:29:59.425989743Z"
    }
   },
   "id": "3f8ba08f39dff19e",
   "execution_count": 16
  },
  {
   "cell_type": "code",
   "outputs": [],
   "source": [],
   "metadata": {
    "collapsed": false
   },
   "id": "acca52b934c50932"
  }
 ],
 "metadata": {
  "kernelspec": {
   "display_name": "Python 3",
   "language": "python",
   "name": "python3"
  },
  "language_info": {
   "codemirror_mode": {
    "name": "ipython",
    "version": 2
   },
   "file_extension": ".py",
   "mimetype": "text/x-python",
   "name": "python",
   "nbconvert_exporter": "python",
   "pygments_lexer": "ipython2",
   "version": "2.7.6"
  }
 },
 "nbformat": 4,
 "nbformat_minor": 5
}
