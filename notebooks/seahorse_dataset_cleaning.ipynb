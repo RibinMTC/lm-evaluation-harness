{
 "cells": [
  {
   "cell_type": "code",
   "execution_count": 52,
   "id": "initial_id",
   "metadata": {
    "collapsed": true,
    "ExecuteTime": {
     "end_time": "2023-08-24T13:56:01.919327487Z",
     "start_time": "2023-08-24T13:56:00.284910671Z"
    }
   },
   "outputs": [],
   "source": [
    "import ast\n",
    "import json\n",
    "\n",
    "from datasets import load_dataset\n",
    "\n",
    "dataset_path = \"mtc/seahorse_dataset_with_articles\"\n",
    "seahorse_dataset = load_dataset(dataset_path)"
   ]
  },
  {
   "cell_type": "code",
   "execution_count": 54,
   "outputs": [
    {
     "name": "stderr",
     "output_type": "stream",
     "text": [
      "Filter: 100%|██████████| 60979/60979 [00:00<00:00, 76400.65 examples/s]\n",
      "Filter: 100%|██████████| 8968/8968 [00:00<00:00, 77105.63 examples/s]\n",
      "Filter: 100%|██████████| 18331/18331 [00:00<00:00, 82221.03 examples/s]\n"
     ]
    }
   ],
   "source": [
    "for split in [\"train\", \"validation\", \"test\"]:\n",
    "    seahorse_dataset[split] = seahorse_dataset[split].filter(lambda example: example['worker_lang'] == 'de')"
   ],
   "metadata": {
    "collapsed": false,
    "ExecuteTime": {
     "end_time": "2023-08-24T13:59:11.831549071Z",
     "start_time": "2023-08-24T13:59:10.644552888Z"
    }
   },
   "id": "6f49e70c4745c755"
  },
  {
   "cell_type": "code",
   "execution_count": 42,
   "outputs": [],
   "source": [
    "def encode_text(text):\n",
    "     return text.encode('latin1').decode('unicode_escape')"
   ],
   "metadata": {
    "collapsed": false,
    "ExecuteTime": {
     "end_time": "2023-08-24T13:46:13.290147907Z",
     "start_time": "2023-08-24T13:46:13.286510735Z"
    }
   },
   "id": "459c5006991ccddb"
  },
  {
   "cell_type": "code",
   "execution_count": 55,
   "outputs": [
    {
     "name": "stdout",
     "output_type": "stream",
     "text": [
      "Num of rows 9180\n",
      "Num of rows 1373\n",
      "Num of rows 2685\n"
     ]
    }
   ],
   "source": [
    "for split in [\"train\", \"validation\", \"test\"]:\n",
    "    print(f\"Num of rows {seahorse_dataset[split].num_rows}\")"
   ],
   "metadata": {
    "collapsed": false,
    "ExecuteTime": {
     "end_time": "2023-08-24T13:59:52.900211755Z",
     "start_time": "2023-08-24T13:59:52.889143443Z"
    }
   },
   "id": "674ae2ade68488ec"
  },
  {
   "cell_type": "code",
   "execution_count": 56,
   "outputs": [
    {
     "name": "stderr",
     "output_type": "stream",
     "text": [
      "Map: 100%|██████████| 9180/9180 [00:01<00:00, 7598.37 examples/s]\n",
      "Map: 100%|██████████| 1373/1373 [00:00<00:00, 6769.83 examples/s]\n",
      "Map: 100%|██████████| 2685/2685 [00:00<00:00, 8557.33 examples/s]\n"
     ]
    }
   ],
   "source": [
    "for split in [\"train\", \"validation\", \"test\"]:\n",
    "    seahorse_dataset[split] = seahorse_dataset[split].map(lambda examples: {'summary': encode_text(examples['summary'])})"
   ],
   "metadata": {
    "collapsed": false,
    "ExecuteTime": {
     "end_time": "2023-08-24T14:00:34.499497651Z",
     "start_time": "2023-08-24T14:00:32.717438404Z"
    }
   },
   "id": "29c60ebcde1de416"
  },
  {
   "cell_type": "code",
   "execution_count": 57,
   "outputs": [],
   "source": [
    "dataset_out_path = \"mtc/german_seahorse_dataset_with_articles\""
   ],
   "metadata": {
    "collapsed": false,
    "ExecuteTime": {
     "end_time": "2023-08-24T14:01:19.027267139Z",
     "start_time": "2023-08-24T14:01:18.981824120Z"
    }
   },
   "id": "a3d79b929c881af2"
  },
  {
   "cell_type": "code",
   "execution_count": 58,
   "outputs": [
    {
     "name": "stderr",
     "output_type": "stream",
     "text": [
      "Pushing dataset shards to the dataset hub:   0%|          | 0/1 [00:00<?, ?it/s]\n",
      "Creating parquet from Arrow format: 100%|██████████| 3/3 [00:00<00:00, 124.99ba/s]\n",
      "Pushing dataset shards to the dataset hub: 100%|██████████| 1/1 [00:02<00:00,  2.05s/it]\n",
      "Pushing dataset shards to the dataset hub:   0%|          | 0/1 [00:00<?, ?it/s]\n",
      "Creating parquet from Arrow format: 100%|██████████| 10/10 [00:00<00:00, 135.37ba/s]\n",
      "Pushing dataset shards to the dataset hub: 100%|██████████| 1/1 [00:01<00:00,  1.44s/it]\n",
      "Pushing dataset shards to the dataset hub:   0%|          | 0/1 [00:00<?, ?it/s]\n",
      "Creating parquet from Arrow format: 100%|██████████| 2/2 [00:00<00:00, 198.22ba/s]\n",
      "Pushing dataset shards to the dataset hub: 100%|██████████| 1/1 [00:00<00:00,  1.21it/s]\n"
     ]
    }
   ],
   "source": [
    "seahorse_dataset.push_to_hub(dataset_out_path)"
   ],
   "metadata": {
    "collapsed": false,
    "ExecuteTime": {
     "end_time": "2023-08-24T14:01:36.950614158Z",
     "start_time": "2023-08-24T14:01:30.925792504Z"
    }
   },
   "id": "27c07edeca411da9"
  },
  {
   "cell_type": "code",
   "execution_count": null,
   "outputs": [],
   "source": [],
   "metadata": {
    "collapsed": false
   },
   "id": "c5098b2cdf6dc5a2"
  }
 ],
 "metadata": {
  "kernelspec": {
   "display_name": "Python 3",
   "language": "python",
   "name": "python3"
  },
  "language_info": {
   "codemirror_mode": {
    "name": "ipython",
    "version": 2
   },
   "file_extension": ".py",
   "mimetype": "text/x-python",
   "name": "python",
   "nbconvert_exporter": "python",
   "pygments_lexer": "ipython2",
   "version": "2.7.6"
  }
 },
 "nbformat": 4,
 "nbformat_minor": 5
}
