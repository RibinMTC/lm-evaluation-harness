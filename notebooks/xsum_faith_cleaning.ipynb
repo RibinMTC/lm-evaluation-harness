{
 "cells": [
  {
   "cell_type": "code",
   "execution_count": 8,
   "id": "initial_id",
   "metadata": {
    "collapsed": true,
    "ExecuteTime": {
     "end_time": "2024-01-31T13:02:35.102359771Z",
     "start_time": "2024-01-31T13:02:35.059996092Z"
    }
   },
   "outputs": [],
   "source": [
    "from datasets import load_dataset, DatasetDict"
   ]
  },
  {
   "cell_type": "code",
   "outputs": [
    {
     "name": "stderr",
     "output_type": "stream",
     "text": [
      "Downloading readme: 100%|██████████| 913/913 [00:00<00:00, 10.1MB/s]\n",
      "Downloading data files:   0%|          | 0/3 [00:00<?, ?it/s]\n",
      "Downloading data:   0%|          | 0.00/1.06M [00:00<?, ?B/s]\u001B[A\n",
      "Downloading data: 100%|██████████| 1.06M/1.06M [00:00<00:00, 1.84MB/s]\u001B[A\n",
      "Downloading data files:  33%|███▎      | 1/3 [00:00<00:01,  1.70it/s]\n",
      "Downloading data:   0%|          | 0.00/806k [00:00<?, ?B/s]\u001B[A\n",
      "Downloading data: 100%|██████████| 806k/806k [00:00<00:00, 2.44MB/s]\u001B[A\n",
      "Downloading data files:  67%|██████▋   | 2/3 [00:00<00:00,  2.28it/s]\n",
      "Downloading data:   0%|          | 0.00/254k [00:00<?, ?B/s]\u001B[A\n",
      "Downloading data: 100%|██████████| 254k/254k [00:00<00:00, 879kB/s]\u001B[A\n",
      "Downloading data files: 100%|██████████| 3/3 [00:01<00:00,  2.47it/s]\n",
      "Extracting data files: 100%|██████████| 3/3 [00:00<00:00, 2736.01it/s]\n",
      "Generating test split: 100%|██████████| 1247/1247 [00:00<00:00, 134742.43 examples/s]\n",
      "Generating train split: 100%|██████████| 1048/1048 [00:00<00:00, 156266.86 examples/s]\n",
      "Generating validation split: 100%|██████████| 200/200 [00:00<00:00, 64587.37 examples/s]\n"
     ]
    }
   ],
   "source": [
    "cleaned_xsum = load_dataset(\"mtc/full_cleaned_xsum_faith\")\n",
    "max_num_words = 4000"
   ],
   "metadata": {
    "collapsed": false,
    "ExecuteTime": {
     "end_time": "2024-01-31T13:11:22.429060828Z",
     "start_time": "2024-01-31T13:11:19.316393936Z"
    }
   },
   "id": "b01317c07dc77b75",
   "execution_count": 25
  },
  {
   "cell_type": "code",
   "outputs": [
    {
     "name": "stderr",
     "output_type": "stream",
     "text": [
      "Filter: 100%|██████████| 1250/1250 [00:00<00:00, 39146.42 examples/s]\n",
      "Filter: 100%|██████████| 1050/1050 [00:00<00:00, 38795.10 examples/s]\n",
      "Filter: 100%|██████████| 200/200 [00:00<00:00, 25488.77 examples/s]\n"
     ]
    }
   ],
   "source": [
    "def filter_by_word_count(example):\n",
    "    num_words = len(example['document'].split())  # Zählt die Wörter im 'document'\n",
    "    return num_words <= max_num_words\n",
    "\n",
    "# Filtern Sie das Dataset\n",
    "filtered_datasets = DatasetDict({\n",
    "    split: cleaned_xsum[split].filter(filter_by_word_count)\n",
    "    for split in cleaned_xsum.keys()\n",
    "})\n"
   ],
   "metadata": {
    "collapsed": false,
    "ExecuteTime": {
     "end_time": "2024-01-31T13:04:54.345178184Z",
     "start_time": "2024-01-31T13:04:54.259202210Z"
    }
   },
   "id": "98aebfb3e15fa182",
   "execution_count": 18
  },
  {
   "cell_type": "code",
   "outputs": [
    {
     "name": "stdout",
     "output_type": "stream",
     "text": [
      "Dataset({\n",
      "    features: ['document', 'claim', 'bbcid', 'model_name', 'label', 'split', 'annotations'],\n",
      "    num_rows: 1247\n",
      "})\n",
      "Dataset({\n",
      "    features: ['document', 'claim', 'bbcid', 'model_name', 'label', 'split', 'annotations'],\n",
      "    num_rows: 1048\n",
      "})\n",
      "Dataset({\n",
      "    features: ['document', 'claim', 'bbcid', 'model_name', 'label', 'split', 'annotations'],\n",
      "    num_rows: 200\n",
      "})\n"
     ]
    }
   ],
   "source": [
    "for split in cleaned_xsum.keys():\n",
    "    print(cleaned_xsum[split])"
   ],
   "metadata": {
    "collapsed": false,
    "ExecuteTime": {
     "end_time": "2024-01-31T13:11:32.275766387Z",
     "start_time": "2024-01-31T13:11:32.272131993Z"
    }
   },
   "id": "736dafb5adeeb1bc",
   "execution_count": 26
  },
  {
   "cell_type": "code",
   "outputs": [
    {
     "name": "stdout",
     "output_type": "stream",
     "text": [
      "Dataset({\n",
      "    features: ['document', 'claim', 'bbcid', 'model_name', 'label', 'split', 'annotations'],\n",
      "    num_rows: 1247\n",
      "})\n",
      "Dataset({\n",
      "    features: ['document', 'claim', 'bbcid', 'model_name', 'label', 'split', 'annotations'],\n",
      "    num_rows: 1048\n",
      "})\n",
      "Dataset({\n",
      "    features: ['document', 'claim', 'bbcid', 'model_name', 'label', 'split', 'annotations'],\n",
      "    num_rows: 200\n",
      "})\n"
     ]
    }
   ],
   "source": [
    "for split in filtered_datasets.keys():\n",
    "    print(filtered_datasets[split])"
   ],
   "metadata": {
    "collapsed": false,
    "ExecuteTime": {
     "end_time": "2024-01-31T13:04:59.944660134Z",
     "start_time": "2024-01-31T13:04:59.939411646Z"
    }
   },
   "id": "b2df1cfdad0f1823",
   "execution_count": 20
  },
  {
   "cell_type": "code",
   "outputs": [
    {
     "name": "stdout",
     "output_type": "stream",
     "text": [
      "test\n",
      "label\n",
      "extrinsic    888\n",
      "intrinsic    232\n",
      "faithful     127\n",
      "Name: count, dtype: int64\n",
      "train\n",
      "label\n",
      "extrinsic    766\n",
      "intrinsic    176\n",
      "faithful     106\n",
      "Name: count, dtype: int64\n",
      "validation\n",
      "label\n",
      "extrinsic    141\n",
      "intrinsic     40\n",
      "faithful      19\n",
      "Name: count, dtype: int64\n"
     ]
    }
   ],
   "source": [
    "for split in filtered_datasets.keys():\n",
    "    print(split)\n",
    "    print(filtered_datasets[split].to_pandas()[\"label\"].value_counts())"
   ],
   "metadata": {
    "collapsed": false,
    "ExecuteTime": {
     "end_time": "2024-01-31T13:07:11.308595823Z",
     "start_time": "2024-01-31T13:07:11.267819879Z"
    }
   },
   "id": "53a6fd21303c88c9",
   "execution_count": 23
  },
  {
   "cell_type": "code",
   "outputs": [
    {
     "name": "stderr",
     "output_type": "stream",
     "text": [
      "Pushing dataset shards to the dataset hub:   0%|          | 0/1 [00:00<?, ?it/s]\n",
      "Creating parquet from Arrow format: 100%|██████████| 2/2 [00:00<00:00, 36.20ba/s]\n",
      "Pushing dataset shards to the dataset hub: 100%|██████████| 1/1 [00:01<00:00,  1.89s/it]\n",
      "Deleting unused files from dataset repository: 100%|██████████| 1/1 [00:00<00:00,  2.02it/s]\n",
      "Pushing dataset shards to the dataset hub:   0%|          | 0/1 [00:00<?, ?it/s]\n",
      "Creating parquet from Arrow format: 100%|██████████| 2/2 [00:00<00:00, 29.49ba/s]\n",
      "Pushing dataset shards to the dataset hub: 100%|██████████| 1/1 [00:01<00:00,  1.44s/it]\n",
      "Deleting unused files from dataset repository: 100%|██████████| 1/1 [00:01<00:00,  1.65s/it]\n",
      "Pushing dataset shards to the dataset hub:   0%|          | 0/1 [00:00<?, ?it/s]\n",
      "Creating parquet from Arrow format: 100%|██████████| 1/1 [00:00<00:00, 102.92ba/s]\n",
      "Pushing dataset shards to the dataset hub: 100%|██████████| 1/1 [00:01<00:00,  1.22s/it]\n",
      "Deleting unused files from dataset repository: 100%|██████████| 1/1 [00:00<00:00,  1.57it/s]\n",
      "Downloading metadata: 100%|██████████| 886/886 [00:00<00:00, 7.43MB/s]\n"
     ]
    }
   ],
   "source": [
    "filtered_datasets.push_to_hub(\"mtc/full_cleaned_xsum_faith\")"
   ],
   "metadata": {
    "collapsed": false,
    "ExecuteTime": {
     "end_time": "2024-01-31T13:09:56.494862883Z",
     "start_time": "2024-01-31T13:09:44.703237268Z"
    }
   },
   "id": "e9517157b227f2ba",
   "execution_count": 24
  },
  {
   "cell_type": "code",
   "outputs": [],
   "source": [],
   "metadata": {
    "collapsed": false
   },
   "id": "7103b05337e29103"
  }
 ],
 "metadata": {
  "kernelspec": {
   "display_name": "Python 3",
   "language": "python",
   "name": "python3"
  },
  "language_info": {
   "codemirror_mode": {
    "name": "ipython",
    "version": 2
   },
   "file_extension": ".py",
   "mimetype": "text/x-python",
   "name": "python",
   "nbconvert_exporter": "python",
   "pygments_lexer": "ipython2",
   "version": "2.7.6"
  }
 },
 "nbformat": 4,
 "nbformat_minor": 5
}
